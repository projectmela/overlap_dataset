{
 "cells": [
  {
   "cell_type": "code",
   "execution_count": 1,
   "id": "a2b810b1",
   "metadata": {},
   "outputs": [],
   "source": [
    "import numpy as np\n",
    "import pandas as pd\n",
    "import matplotlib.pyplot as plt"
   ]
  },
  {
   "cell_type": "code",
   "execution_count": 2,
   "id": "de26781d",
   "metadata": {},
   "outputs": [],
   "source": [
    "sets = [['Set 1'], ['Set 2'], ['Set 3'], ['Set 4'], ['Set 5'], ['Set 6']]\n",
    "files = [['20230313_SE_Lek1_P2D3_DJI_0312', '20230313_SE_Lek1_P3D5_DJI_0575'],\n",
    "         ['20230313_SE_Lek1_P1D1_DJI_0294', '20230313_SE_Lek1_P2D3_DJI_0310',\n",
    "         '20230313_SE_Lek1_P2D3_DJI_0310', '20230313_SE_Lek1_P3D5_DJI_0573'],\n",
    "         ['20230313_SE_Lek1_P1D2_DJI_0020', '20230313_SE_Lek1_P2D4_DJI_0940', \n",
    "          '20230313_SE_Lek1_P2D4_DJI_0940', '20230313_SE_Lek1_P3D6_DJI_0923'],\n",
    "         ['20230315_SM_Lek1_P1D2_DJI_0079', '20230315_SM_Lek1_P2D4_DJI_0001', \n",
    "          '20230315_SM_Lek1_P2D4_DJI_0001', '20230315_SM_Lek1_P3D6_DJI_0987'],\n",
    "         ['20230315_SM_Lek1_P1D2_DJI_0080', '20230315_SM_Lek1_P2D4_DJI_0002', \n",
    "          '20230315_SM_Lek1_P2D4_DJI_0002', '20230315_SM_Lek1_P3D6_DJI_0988'],\n",
    "         ['20230315_SM_Lek1_P1D2_DJI_0081', '20230315_SM_Lek1_P2D4_DJI_0003', \n",
    "          '20230315_SM_Lek1_P2D4_DJI_0003', '20230315_SM_Lek1_P3D6_DJI_0989']]"
   ]
  },
  {
   "cell_type": "code",
   "execution_count": 4,
   "id": "7928c9d9",
   "metadata": {},
   "outputs": [],
   "source": [
    "for i in range(len(sets)):\n",
    "    j=0\n",
    "    while 2*j < len(files[i]):\n",
    "        file = pd.read_csv('/Users/vivekhsridhar/Library/Mobile Documents/com~apple~CloudDocs/Documents/Code/Python/OpenCV/overlap_dataset/output/tracks/' + sets[i][0] + '/' + files[i][2*j] + '_' + files[i][2*j+1] + '.csv')\n",
    "        id_matches = len(file)\n",
    "        shortest_tracklet = file['overlap_duration'].min()\n",
    "        average_tracklet = file['overlap_duration'].mean()\n",
    "        longest_tracklet = file['overlap_duration'].max()\n",
    "        \n",
    "        ## Compile dataframe\n",
    "        tmp = pd.DataFrame([sets[i][0], files[i][2*j], files[i][2*j+1], id_matches, shortest_tracklet, average_tracklet, longest_tracklet]).T\n",
    "        tmp.columns = ['set_id', 'video_1', 'video_2', 'id_matches', 'shortest_tracklet', 'average_tracklet', 'longest_tracklet']\n",
    "        if i != 0 or j != 0:\n",
    "            df = pd.concat((df, tmp), axis=0)\n",
    "        else:\n",
    "            df = tmp\n",
    "            \n",
    "        j += 1\n",
    "\n",
    "df.to_csv('/Users/vivekhsridhar/Library/Mobile Documents/com~apple~CloudDocs/Documents/Code/Python/OpenCV/overlap_dataset/id_matching.csv', mode='w')"
   ]
  },
  {
   "cell_type": "code",
   "execution_count": null,
   "id": "83e91495",
   "metadata": {},
   "outputs": [],
   "source": []
  }
 ],
 "metadata": {
  "kernelspec": {
   "display_name": "Python 3 (ipykernel)",
   "language": "python",
   "name": "python3"
  },
  "language_info": {
   "codemirror_mode": {
    "name": "ipython",
    "version": 3
   },
   "file_extension": ".py",
   "mimetype": "text/x-python",
   "name": "python",
   "nbconvert_exporter": "python",
   "pygments_lexer": "ipython3",
   "version": "3.8.15"
  }
 },
 "nbformat": 4,
 "nbformat_minor": 5
}
